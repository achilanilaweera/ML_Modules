{
 "cells": [
  {
   "cell_type": "code",
   "execution_count": null,
   "metadata": {},
   "outputs": [],
   "source": [
    "#Import libraries\n",
    "import numpy as np\n",
    "import cv2\n",
    "import os\n",
    "from keras.models import Sequential\n",
    "from keras.layers import Conv2D,MaxPooling2D,Dense,Flatten,Activation\n",
    "from sklearn.model_selection import train_test_split\n",
    "from keras.callbacks import ModelCheckpoint\n",
    "from matplotlib import pyplot as plt\n",
    "from sklearn.metrics import confusion_matrix,classification_report,ConfusionMatrixDisplay\n",
    "\n"
   ]
  },
  {
   "cell_type": "code",
   "execution_count": null,
   "metadata": {},
   "outputs": [],
   "source": [
    "#Load save data\n",
    "data=np.load('data-memory-save-FER.npy')\n",
    "target=np.load('target-memory-save-FER.npy')"
   ]
  },
  {
   "cell_type": "code",
   "execution_count": null,
   "metadata": {},
   "outputs": [],
   "source": [
    "print(data.shape)\n",
    "print(target.shape)"
   ]
  },
  {
   "cell_type": "code",
   "execution_count": null,
   "metadata": {},
   "outputs": [],
   "source": [
    "print(data[1000])\n",
    "print(target[1000])"
   ]
  },
  {
   "cell_type": "code",
   "execution_count": null,
   "metadata": {
    "scrolled": true
   },
   "outputs": [],
   "source": [
    "#Model\n",
    "\n",
    "model=Sequential()\n",
    "\n",
    "model.add(Conv2D(256,(3,3),input_shape=(150,150,1)))\n",
    "model.add(Activation('relu'))\n",
    "model.add(MaxPooling2D(pool_size=(2,2)))\n",
    "\n",
    "model.add(Conv2D(128,(3,3)))\n",
    "model.add(Activation('relu'))\n",
    "model.add(MaxPooling2D(pool_size=(2,2)))\n",
    "\n",
    "model.add(Conv2D(64,(3,3)))\n",
    "model.add(Activation('relu'))\n",
    "model.add(MaxPooling2D(pool_size=(2,2)))\n",
    "\n",
    "model.add(Flatten())\n",
    "\n",
    "model.add(Dense(200,activation='relu'))\n",
    "model.add(Dense(100,activation='relu'))\n",
    "model.add(Dense(50,activation='relu'))\n",
    "model.add(Dense(5,activation='softmax'))\n",
    "\n",
    "model.compile(loss='categorical_crossentropy',optimizer='adam',metrics=['accuracy'])\n",
    "\n",
    "model.summary()"
   ]
  },
  {
   "cell_type": "markdown",
   "metadata": {},
   "source": [
    "from tensorflow.keras.applications import MobileNetV2\n",
    "from tensorflow.keras.layers import AveragePooling2D\n",
    "from tensorflow.keras.layers import Dropout\n",
    "from tensorflow.keras.layers import Flatten\n",
    "from tensorflow.keras.layers import Dense\n",
    "from tensorflow.keras.layers import Input\n",
    "from tensorflow.keras.models import Model\n",
    "\n",
    "baseModel = MobileNetV2(weights=\"imagenet\", include_top=False,input_tensor=Input(shape=(224,224, 3)))\n",
    "\n",
    "headModel = baseModel.output\n",
    "headModel = AveragePooling2D(pool_size=(4, 4))(headModel)\n",
    "headModel = Flatten(name=\"flatten\")(headModel)\n",
    "headModel = Dense(128, activation=\"relu\")(headModel)\n",
    "headModel = Dropout(0.5)(headModel)\n",
    "headModel = Dense(5, activation=\"softmax\")(headModel)\n",
    "\n",
    "\n",
    "model = Model(inputs=baseModel.input, outputs=headModel)\n",
    "\n",
    "for layer in baseModel.layers:\n",
    "    \n",
    "    layer.trainable = False\n",
    "\n",
    "model.compile(loss=\"categorical_crossentropy\", optimizer='adam',metrics=[\"accuracy\"])\n",
    "model.summary()\n"
   ]
  },
  {
   "cell_type": "code",
   "execution_count": null,
   "metadata": {},
   "outputs": [],
   "source": [
    "img_size=150\n",
    "\n",
    "def batcher(data,target):\n",
    "    \n",
    "    global img_size,batch_size\n",
    "    \n",
    "    def preprocess(img_name):\n",
    "\n",
    "        img=cv2.imread(os.path.abspath(img_name))\n",
    "        img=cv2.cvtColor(img,cv2.COLOR_BGR2GRAY)\n",
    "        img=cv2.resize(img,(img_size,img_size))/255\n",
    "        \n",
    "        return img.reshape(img_size,img_size,1)\n",
    "\n",
    "\n",
    "    while(True):\n",
    "        \n",
    "        data_new=[]\n",
    "        target_new=[]\n",
    "        inds=np.random.randint(0,len(data),batch_size)\n",
    "        \n",
    "        for index in inds:\n",
    "\n",
    "            data_new.append(preprocess(data[index]))\n",
    "            target_new.append(target[index])\n",
    "        \n",
    "\n",
    "        yield np.array(data_new),np.array(target_new)"
   ]
  },
  {
   "cell_type": "code",
   "execution_count": null,
   "metadata": {},
   "outputs": [],
   "source": [
    "img_size=150\n",
    "\n",
    "def test_batcher(data,target):\n",
    "    \n",
    "    global img_size,batch_size\n",
    "    \n",
    "    data_new=[]\n",
    "    target_new=[]\n",
    "    \n",
    "    def preprocess(img_name):\n",
    "\n",
    "        img=cv2.imread(os.path.abspath(img_name))\n",
    "        img=cv2.cvtColor(img,cv2.COLOR_BGR2GRAY)\n",
    "        img=cv2.resize(img,(img_size,img_size))/255\n",
    "\n",
    "        return img.reshape(img_size,img_size,1)\n",
    "\n",
    "    for index in range(len(data)):\n",
    "\n",
    "        data_new.append(preprocess(data[index]))\n",
    "        target_new.append(target[index])\n",
    "        \n",
    "    return np.array(data_new),np.array(target_new)"
   ]
  },
  {
   "cell_type": "code",
   "execution_count": null,
   "metadata": {},
   "outputs": [],
   "source": [
    "#Split the dataset\n",
    "train_data,test_data,train_target,test_target=train_test_split(data,target,test_size=0.2)"
   ]
  },
  {
   "cell_type": "code",
   "execution_count": null,
   "metadata": {},
   "outputs": [],
   "source": [
    "print(train_data[:3])"
   ]
  },
  {
   "cell_type": "code",
   "execution_count": null,
   "metadata": {},
   "outputs": [],
   "source": [
    "print(test_data[:3])"
   ]
  },
  {
   "cell_type": "code",
   "execution_count": null,
   "metadata": {},
   "outputs": [],
   "source": [
    "#Save best models\n",
    "checkpoint=ModelCheckpoint(filepath='models-{epoch:02d}',monitor='val_accuracy',mode='max',save_best_only=True)\n",
    "\n",
    "batch_size=8\n",
    "\n",
    "#Train the model\n",
    "history = model.fit(batcher(train_data,train_target),epochs=10,validation_data=batcher(test_data,test_target),\n",
    "                    batch_size=batch_size,steps_per_epoch=len(train_data)//batch_size,\n",
    "                    validation_steps=len(test_data)//batch_size,callbacks=[checkpoint])\n",
    "\n",
    "model.save('model2_1.h5')"
   ]
  },
  {
   "cell_type": "code",
   "execution_count": null,
   "metadata": {},
   "outputs": [],
   "source": [
    "#Create chart\n",
    "plt.plot(history.history['loss'],'r',label='train loss')\n",
    "plt.plot(history.history['val_loss'],'b',label='val loss')\n",
    "plt.legend()\n",
    "plt.xlabel('epoch #')\n",
    "plt.ylabel('loss')"
   ]
  },
  {
   "cell_type": "code",
   "execution_count": null,
   "metadata": {},
   "outputs": [],
   "source": [
    "#Create chart\n",
    "\n",
    "plt.plot(history.history['accuracy'],'g',label='accuracy')\n",
    "plt.plot(history.history['val_accuracy'],'b',label='val_accuracy')\n",
    "plt.legend()\n",
    "plt.xlabel('epoch #')\n",
    "plt.ylabel('loss')"
   ]
  },
  {
   "cell_type": "code",
   "execution_count": null,
   "metadata": {},
   "outputs": [],
   "source": [
    "# import tensorflow as tf\n",
    "# model = tf.keras.models.load_model('models-13')"
   ]
  },
  {
   "cell_type": "code",
   "execution_count": null,
   "metadata": {},
   "outputs": [],
   "source": [
    "vald_data,val_target=test_batcher(test_data,test_target)"
   ]
  },
  {
   "cell_type": "code",
   "execution_count": null,
   "metadata": {},
   "outputs": [],
   "source": [
    "#Prediction\n",
    "predicted_target=model.predict(vald_data)\n",
    "matrix=confusion_matrix(np.argmax(val_target,axis=1),np.argmax(predicted_target,axis=1))\n",
    "\n",
    "print(matrix)\n",
    "print(classification_report(np.argmax(val_target,axis=1),np.argmax(predicted_target,axis=1),target_names=['Angry','Happy', 'Neutral', 'Sad', 'Surprise']))"
   ]
  },
  {
   "cell_type": "code",
   "execution_count": null,
   "metadata": {},
   "outputs": [],
   "source": [
    "#Confusion matrix\n",
    "disp = ConfusionMatrixDisplay(confusion_matrix=matrix, display_labels=['Angry', 'Happy', 'Neutral', 'Sad', 'Surprise'])\n",
    "disp.plot()\n"
   ]
  },
  {
   "cell_type": "code",
   "execution_count": null,
   "metadata": {},
   "outputs": [],
   "source": []
  },
  {
   "cell_type": "code",
   "execution_count": null,
   "metadata": {},
   "outputs": [],
   "source": []
  }
 ],
 "metadata": {
  "kernelspec": {
   "display_name": "Python 3",
   "language": "python",
   "name": "python3"
  },
  "language_info": {
   "codemirror_mode": {
    "name": "ipython",
    "version": 3
   },
   "file_extension": ".py",
   "mimetype": "text/x-python",
   "name": "python",
   "nbconvert_exporter": "python",
   "pygments_lexer": "ipython3",
   "version": "3.6.13"
  }
 },
 "nbformat": 4,
 "nbformat_minor": 4
}
