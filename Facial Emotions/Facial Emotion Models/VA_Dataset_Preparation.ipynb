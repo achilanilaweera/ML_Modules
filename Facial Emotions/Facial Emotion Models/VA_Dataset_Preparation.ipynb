{
 "cells": [
  {
   "cell_type": "code",
   "execution_count": null,
   "metadata": {},
   "outputs": [],
   "source": [
    "#import libraries\n",
    "import os\n",
    "import glob\n",
    "import shutil\n",
    "import tensorflow\n",
    "from PIL import ImageFile, Image\n",
    "from keras.preprocessing.image import load_img\n",
    "from keras.preprocessing.image import save_img\n",
    "from keras.preprocessing.image import img_to_array\n",
    "import pandas as pd\n",
    "import cv2\n",
    "import numpy as np\n",
    "from sklearn.model_selection import train_test_split\n",
    "from keras import Sequential\n",
    "from keras.layers import Conv2D, MaxPooling2D, Activation, Flatten, Dense, Dropout, BatchNormalization, LSTM, TimeDistributed, SpatialDropout1D"
   ]
  },
  {
   "cell_type": "markdown",
   "metadata": {},
   "source": [
    "### Moving all arousal files to another folder "
   ]
  },
  {
   "cell_type": "code",
   "execution_count": null,
   "metadata": {},
   "outputs": [],
   "source": [
    "src_folder = r\"E:\\SLIIT\\Research\\FER Datasets\\VA\\AffectNet\\train_set\\train_set\\annotations\"\n",
    "dst_folder = r\"E:\\SLIIT\\Research\\FER Datasets\\VA\\AffectNet\\Train\\Arousal\\\\\"\n",
    "print(\"1\")\n",
    "# move file whose name starts with string 'emp'\n",
    "pattern = src_folder + \"\\*aro.npy\"\n",
    "\n",
    "for file in glob.iglob(pattern, recursive=True):\n",
    "    # extract file name form file path\n",
    "    file_name = os.path.basename(file)\n",
    "    shutil.move(file, dst_folder + file_name)\n",
    "    print('Moved:', file)"
   ]
  },
  {
   "cell_type": "markdown",
   "metadata": {},
   "source": [
    "### Moving all valence files to another folder "
   ]
  },
  {
   "cell_type": "code",
   "execution_count": null,
   "metadata": {},
   "outputs": [],
   "source": [
    "count = 0\n",
    "\n",
    "src_folder = r\"E:\\SLIIT\\Research\\FER Datasets\\VA\\AffectNet\\train_set\\train_set\\annotations\"\n",
    "dst_folder = r\"E:\\SLIIT\\Research\\FER Datasets\\VA\\AffectNet\\Train\\Emotion\\\\\"\n",
    "\n",
    "# move file whose name starts with string 'emp'\n",
    "pattern = src_folder + \"\\*exp.npy\"\n",
    "\n",
    "for file in glob.iglob(pattern, recursive=True):\n",
    "    # extract file name form file path\n",
    "    file_name = os.path.basename(file)\n",
    "    shutil.move(file, dst_folder + file_name)\n",
    "    print('Moved:', file)\n",
    "    count = count + 1\n",
    "\n",
    "print(count)"
   ]
  },
  {
   "cell_type": "code",
   "execution_count": null,
   "metadata": {},
   "outputs": [],
   "source": [
    "count = 0\n",
    "\n",
    "src_folder = r\"E:\\SLIIT\\Research\\FER Datasets\\VA\\AffectNet\\train_set\\train_set\\annotations\"\n",
    "dst_folder = r\"E:\\SLIIT\\Research\\FER Datasets\\VA\\AffectNet\\Train\\Valence\\\\\"\n",
    "# move file whose name starts with string 'emp'\n",
    "pattern = src_folder + \"\\*val.npy\"\n",
    "\n",
    "for file in glob.iglob(pattern, recursive=True):\n",
    "    # extract file name form file path\n",
    "    file_name = os.path.basename(file)\n",
    "    shutil.move(file, dst_folder + file_name)\n",
    "    print('Moved:', file)\n",
    "    count = count + 1\n",
    "\n",
    "print(count)"
   ]
  },
  {
   "cell_type": "code",
   "execution_count": null,
   "metadata": {},
   "outputs": [],
   "source": [
    "embed_path = 'E:/SLIIT/Research/FER Datasets/VA/AffectNet/Train/Arousal/'       # Use forward slash (/) at the end\n",
    "\n",
    "arr_arousal = []\n",
    "filenames_arousal = []\n",
    "for file in os.listdir(embed_path):\n",
    "    temp_arousal = np.load(embed_path + file)\n",
    "    filenames_arousal.append(file)\n",
    "    arr_arousal.append(temp_arousal)\n",
    "    \n",
    "    data = {'fileName': filenames_arousal,\n",
    "        'arousal': arr_arousal\n",
    "        }\n",
    "    \n",
    "df_arousal = pd.DataFrame(data, columns= ['fileName', 'arousal'])\n",
    "\n",
    "\n",
    "df_arousal"
   ]
  },
  {
   "cell_type": "code",
   "execution_count": null,
   "metadata": {},
   "outputs": [],
   "source": [
    "df_arousal.to_csv(r'E:\\SLIIT\\Research\\FER Datasets\\VA\\AffectNet\\Train\\Test_A.csv', index = False, header=True)"
   ]
  },
  {
   "cell_type": "code",
   "execution_count": null,
   "metadata": {},
   "outputs": [],
   "source": [
    "embed_path = 'E:/SLIIT/Research/FER Datasets/VA/AffectNet/Train/Valence/'       # Use forward slash (/) at the end\n",
    "\n",
    "arr_valence = []\n",
    "filenames_valence = []\n",
    "for file in os.listdir(embed_path):\n",
    "    temp_valence = np.load(embed_path + file)\n",
    "    filenames_valence.append(file)\n",
    "    arr_valence.append(temp_valence)\n",
    "    \n",
    "    data = {'fileName': filenames_valence,\n",
    "        'valence': arr_valence\n",
    "        }\n",
    "    \n",
    "df_valence = pd.DataFrame(data, columns= ['fileName', 'valence'])\n",
    "\n",
    "\n",
    "df_valence"
   ]
  },
  {
   "cell_type": "code",
   "execution_count": null,
   "metadata": {},
   "outputs": [],
   "source": [
    "df_valence.to_csv(r'E:\\SLIIT\\Research\\VA\\valence-arousal-recognition-master\\valence-arousal-recognition-master\\AffectDataFiles\\Test_V.csv', index = False, header=True)"
   ]
  },
  {
   "cell_type": "code",
   "execution_count": null,
   "metadata": {},
   "outputs": [],
   "source": [
    "embed_path = 'E:/SLIIT/Research/FER Datasets/VA/AffectNet/Train/Emotion/'       # Use forward slash (/) at the end\n",
    "\n",
    "arr_emotion = []\n",
    "filenames_emotion = []\n",
    "for file in os.listdir(embed_path):\n",
    "    temp_emotion = np.load(embed_path + file)\n",
    "    filenames_emotion.append(file)\n",
    "    arr_emotion.append(temp_emotion)\n",
    "    \n",
    "    data = {'fileName': filenames_emotion,\n",
    "        'emotion': arr_emotion\n",
    "        }\n",
    "    \n",
    "df_emotion = pd.DataFrame(data, columns= ['fileName', 'emotion'])\n",
    "\n",
    "\n",
    "df_emotion"
   ]
  },
  {
   "cell_type": "code",
   "execution_count": null,
   "metadata": {},
   "outputs": [],
   "source": [
    "df_emotion.to_csv(r'E:\\SLIIT\\Research\\VA\\valence-arousal-recognition-master\\valence-arousal-recognition-master\\AffectDataFiles\\Train_E.csv', index = False, header=True)"
   ]
  },
  {
   "cell_type": "code",
   "execution_count": null,
   "metadata": {},
   "outputs": [],
   "source": [
    "embed_path = 'E:/SLIIT/Research/FER Datasets/VA/AffectNet/Test/LandMarks/'       # Use forward slash (/) at the end\n",
    "\n",
    "arr_lMarks = []\n",
    "filenames_lMarks = []\n",
    "for file in os.listdir(embed_path):\n",
    "    temp_lMarks = np.load(embed_path + file)\n",
    "    filenames_lMarks.append(file)\n",
    "    arr_lMarks.append(temp_lMarks)\n",
    "    \n",
    "    data = {'fileName': filenames_lMarks,\n",
    "        'landMarks': arr_lMarks\n",
    "        }\n",
    "    \n",
    "df_lMarks = pd.DataFrame(data, columns= ['fileName', 'landMarks'])\n",
    "\n",
    "\n",
    "df_lMarks"
   ]
  },
  {
   "cell_type": "code",
   "execution_count": null,
   "metadata": {},
   "outputs": [],
   "source": [
    "df_lMarks.to_csv(r'E:\\SLIIT\\Research\\VA\\valence-arousal-recognition-master\\valence-arousal-recognition-master\\Test_L.csv', index = False, header=True)"
   ]
  },
  {
   "cell_type": "code",
   "execution_count": null,
   "metadata": {},
   "outputs": [],
   "source": [
    "import pandas as pd\n",
    "  \n",
    "# reading two csv files\n",
    "data1 = pd.read_csv('E:/SLIIT/Research/VA/valence-arousal-recognition-master/valence-arousal-recognition-master/AffectDataFiles/Test_A.csv')\n",
    "data2 = pd.read_csv('E:/SLIIT/Research/VA/valence-arousal-recognition-master/valence-arousal-recognition-master/AffectDataFiles/Test_V.csv')\n",
    "#data3 = pd.read_csv('E:/SLIIT/Research/VA/valence-arousal-recognition-master/valence-arousal-recognition-master/AffectDataFiles/Train_E.csv')\n",
    "\n",
    "  \n",
    "# using merge function by setting how='inner'\n",
    "output1 = pd.merge(data1, data2,on='fileName',how='inner')\n",
    "  \n",
    "# displaying result\n",
    "print(output1)"
   ]
  },
  {
   "cell_type": "code",
   "execution_count": null,
   "metadata": {},
   "outputs": [],
   "source": [
    "output1.to_csv('E:/SLIIT/Research/VA/valence-arousal-recognition-master/valence-arousal-recognition-master/AffectDataFiles/AVFile.csv')"
   ]
  },
  {
   "cell_type": "code",
   "execution_count": null,
   "metadata": {},
   "outputs": [],
   "source": [
    "import pandas as pd\n",
    "  \n",
    "# reading two csv files\n",
    "data3 = pd.read_csv('E:/SLIIT/Research/VA/valence-arousal-recognition-master/valence-arousal-recognition-master/AffectDataFiles/AVFile.csv')\n",
    "data4 = pd.read_csv('E:/SLIIT/Research/VA/valence-arousal-recognition-master/valence-arousal-recognition-master/AffectDataFiles/Train_E.csv')\n",
    "\n",
    "  \n",
    "# using merge function by setting how='inner'\n",
    "output2 = pd.merge(data3, data4, on='fileName',how='inner')\n",
    "  \n",
    "# displaying result\n",
    "print(output2)"
   ]
  },
  {
   "cell_type": "code",
   "execution_count": null,
   "metadata": {},
   "outputs": [],
   "source": [
    "output2.to_csv('E:/SLIIT/Research/VA/valence-arousal-recognition-master/valence-arousal-recognition-master/AffectDataFiles/AVEFile.csv')"
   ]
  },
  {
   "cell_type": "code",
   "execution_count": null,
   "metadata": {},
   "outputs": [],
   "source": [
    "\n",
    "# 1.Get file names from directory\n",
    "file_list=os.listdir(r\"E:\\SLIIT\\Research\\FER Datasets\\VA\\AffectNet\\train_set\\train_set\\images\")\n",
    "print(file_list)"
   ]
  },
  {
   "cell_type": "code",
   "execution_count": null,
   "metadata": {},
   "outputs": [],
   "source": [
    "# Importing library\n",
    "import csv\n",
    "\n",
    "# opening the csv file in 'w+' mode\n",
    "file = open('E:/SLIIT/Research/VA/valence-arousal-recognition-master/valence-arousal-recognition-master/AffectDataFiles/imgFile.csv', 'w+', newline ='')\n",
    "\n",
    "# writing the data into the file\n",
    "with file:\t\n",
    "\twrite = csv.writer(file)\n",
    "\twrite.writerows(file_list)\n"
   ]
  },
  {
   "cell_type": "code",
   "execution_count": null,
   "metadata": {},
   "outputs": [],
   "source": [
    "Dir = \"E:/SLIIT/Research/VA/valence-arousal-recognition-master/valence-arousal-recognition-master/AffectDataFiles/TrainImages/CroppedAffectnetImage/Test\"\n",
    "\n",
    "Files = []\n",
    "\n",
    "for root, dir_name, file_name in os.walk(Dir): \n",
    "#root store address till directory, dir_name stores directory name # file_name stores file name\n",
    "    for name in file_name:\n",
    "        fullName = os.path.join(root, name)\n",
    "        File = []\n",
    "        File.append(fullName)        \n",
    "        Files.append(File)\n"
   ]
  },
  {
   "cell_type": "code",
   "execution_count": null,
   "metadata": {},
   "outputs": [],
   "source": [
    "Files"
   ]
  },
  {
   "cell_type": "code",
   "execution_count": null,
   "metadata": {},
   "outputs": [],
   "source": [
    "# Importing library\n",
    "import csv\n",
    "\n",
    "# opening the csv file in 'w+' mode\n",
    "file = open('E:/SLIIT/Research/VA/valence-arousal-recognition-master/valence-arousal-recognition-master/AffectDataFiles/imgFile.csv', 'w+', newline ='')\n",
    "\n",
    "# writing the data into the file\n",
    "with file:\t\n",
    "\twrite = csv.writer(file)\n",
    "\twrite.writerows(Files)"
   ]
  },
  {
   "cell_type": "code",
   "execution_count": null,
   "metadata": {},
   "outputs": [],
   "source": [
    "import pandas as pd\n",
    "  \n",
    "# reading two csv files\n",
    "data5 = pd.read_csv('E:/SLIIT/Research/VA/valence-arousal-recognition-master/valence-arousal-recognition-master/AffectDataFiles/AVEFile.csv')\n",
    "data6 = pd.read_csv('E:/SLIIT/Research/VA/valence-arousal-recognition-master/valence-arousal-recognition-master/AffectDataFiles/imgFile.csv')\n",
    "\n",
    "  \n",
    "# using merge function by setting how='inner'\n",
    "output3 = pd.merge(data5, data6, on='fileName',how='inner')\n",
    "  \n",
    "# displaying result\n",
    "print(output3)"
   ]
  },
  {
   "cell_type": "code",
   "execution_count": null,
   "metadata": {},
   "outputs": [],
   "source": [
    "output3.to_csv('E:/SLIIT/Research/VA/valence-arousal-recognition-master/valence-arousal-recognition-master/AffectDataFiles/AffectTrain.csv')"
   ]
  },
  {
   "cell_type": "markdown",
   "metadata": {},
   "source": [
    "### Moving Images to sub folders accrding to the label"
   ]
  },
  {
   "cell_type": "code",
   "execution_count": null,
   "metadata": {},
   "outputs": [],
   "source": [
    "import shutil, os\n",
    "import pandas as pd\n",
    "\n",
    "labels = pd.read_csv(\"E:/SLIIT/Research/VA/valence-arousal-recognition-master/valence-arousal-recognition-master/AffectDataFiles/AffectTrain.csv\")\n",
    "labels"
   ]
  },
  {
   "cell_type": "code",
   "execution_count": null,
   "metadata": {},
   "outputs": [],
   "source": [
    "labels = labels.sort_values('emotion')\n",
    "\n",
    "class_names = list(labels.emotion.unique())\n",
    "class_names"
   ]
  },
  {
   "cell_type": "code",
   "execution_count": null,
   "metadata": {},
   "outputs": [],
   "source": [
    "train_images = 'E:/SLIIT/Research/VA/valence-arousal-recognition-master/valence-arousal-recognition-master/AffectDataFiles/TrainImages'\n",
    "train_cat = 'E:/SLIIT/Research/VA/valence-arousal-recognition-master/valence-arousal-recognition-master/AffectDataFiles/TrainImages/train'"
   ]
  },
  {
   "cell_type": "markdown",
   "metadata": {},
   "source": [
    "### Creating sub folders"
   ]
  },
  {
   "cell_type": "code",
   "execution_count": null,
   "metadata": {},
   "outputs": [],
   "source": [
    "for i in class_names:\n",
    "    os.makedirs(os.path.join('E:/SLIIT/Research/VA/valence-arousal-recognition-master/valence-arousal-recognition-master/AffectDataFiles/TrainImages/train', str(i)))"
   ]
  },
  {
   "cell_type": "code",
   "execution_count": null,
   "metadata": {},
   "outputs": [],
   "source": [
    "for c in class_names: # Category Name\n",
    "    print(c)\n",
    "    for i in list(labels[labels['emotion']==c]['Image Name']): # Image Id\n",
    "        get_image = os.path.join('E:/SLIIT/Research/VA/valence-arousal-recognition-master/valence-arousal-recognition-master/AffectDataFiles/TrainImages/', str(i)) # Path to Images\n",
    "        move_image_to_cat = shutil.move(get_image, 'E:/SLIIT/Research/VA/valence-arousal-recognition-master/valence-arousal-recognition-master/AffectDataFiles/TrainImages/train/'+ str(c))"
   ]
  },
  {
   "cell_type": "code",
   "execution_count": null,
   "metadata": {},
   "outputs": [],
   "source": []
  }
 ],
 "metadata": {
  "kernelspec": {
   "display_name": "Python 3",
   "language": "python",
   "name": "python3"
  },
  "language_info": {
   "codemirror_mode": {
    "name": "ipython",
    "version": 3
   },
   "file_extension": ".py",
   "mimetype": "text/x-python",
   "name": "python",
   "nbconvert_exporter": "python",
   "pygments_lexer": "ipython3",
   "version": "3.6.13"
  }
 },
 "nbformat": 4,
 "nbformat_minor": 4
}
