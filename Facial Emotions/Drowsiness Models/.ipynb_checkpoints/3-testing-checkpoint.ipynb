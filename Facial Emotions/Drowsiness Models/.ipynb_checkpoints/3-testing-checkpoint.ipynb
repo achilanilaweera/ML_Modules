{
 "cells": [
  {
   "cell_type": "code",
   "execution_count": 1,
   "id": "a55637ce",
   "metadata": {},
   "outputs": [],
   "source": [
    "from keras.models import load_model\n",
    "\n",
    "model=load_model('EAR.model')"
   ]
  },
  {
   "cell_type": "code",
   "execution_count": null,
   "id": "7ad126a5",
   "metadata": {},
   "outputs": [
    {
     "name": "stdout",
     "output_type": "stream",
     "text": [
      "['27.mp4', '30.mp4']\n"
     ]
    }
   ],
   "source": [
    "import os\n",
    "import numpy as np\n",
    "import cv2\n",
    "import dlib\n",
    "from imutils import face_utils\n",
    "\n",
    "face_detector=dlib.get_frontal_face_detector()\n",
    "landmark_detector=dlib.shape_predictor('shape_predictor_68_face_landmarks.dat')\n",
    "\n",
    "test_path=r'E:\\SLIIT\\Research\\FER_MY_Implementation\\Test'\n",
    "test_files=os.listdir(test_path)\n",
    "print(test_files)\n",
    "\n",
    "category_dict={0:'alert',1: 'drowsy'}\n",
    "\n",
    "window_size=20\n",
    "test_data=[]\n",
    "count=0\n",
    "category='None'\n",
    "\n",
    "for test_file in test_files:\n",
    "    \n",
    "    test_file_path=os.path.join(test_path,test_file)\n",
    "    source=cv2.VideoCapture(test_file_path)\n",
    "    \n",
    "    while(True):\n",
    "        \n",
    "            ret,img=source.read()\n",
    "            if(ret==False):\n",
    "                break\n",
    "            img=cv2.resize(img,(0,0),fx=0.5,fy=0.5)\n",
    "            gray=cv2.cvtColor(img,cv2.COLOR_BGR2GRAY)\n",
    "            faces=face_detector(gray)\n",
    "\n",
    "            for face in faces:\n",
    "\n",
    "                x1=face.left()\n",
    "                y1=face.top()\n",
    "                x2=face.right()\n",
    "                y2=face.bottom()\n",
    "\n",
    "                cv2.rectangle(img,(x1,y1),(x2,y2),(0,255,0),2)\n",
    "\n",
    "                points=landmark_detector(gray,face)\n",
    "\n",
    "                points=face_utils.shape_to_np(points)\n",
    "                \n",
    "                for i,p in enumerate(points):\n",
    "\n",
    "                    cen=(p[0],p[1])\n",
    "                    cv2.circle(img,cen,2,(0,255,0),-1)\n",
    "\n",
    "                cv2.line(img,tuple(points[37]),tuple(points[41]),(0,0,255),2)\n",
    "                cv2.line(img,tuple(points[44]),tuple(points[46]),(0,0,255),2)\n",
    "                \n",
    "                p1=points[36][0]\n",
    "                p2=points[37][1]\n",
    "                p3=points[38][1]\n",
    "                p4=points[39][0]\n",
    "                p5=points[40][1]\n",
    "                p6=points[41][1]\n",
    "\n",
    "                eye_ratio=(abs(p2-p6)+abs(p3-p5))/abs(p1-p4)\n",
    "                test_data.append(eye_ratio)\n",
    "                count=count+1\n",
    "                \n",
    "                if(count==window_size):\n",
    "                   \n",
    "                    test_data=np.array(test_data)\n",
    "                    test_data=test_data.reshape(1,test_data.shape[0],1)\n",
    "                    result=model.predict(test_data)\n",
    "                    label=np.argmax(result,axis=1)[0]\n",
    "                    category=category_dict[label]\n",
    "                    \n",
    "                    count=0\n",
    "                    test_data=[]\n",
    "                    \n",
    "            cv2.putText(img,category,(10,50),cv2.FONT_HERSHEY_SIMPLEX,0.8,(0,255,255),2)     \n",
    "            cv2.imshow('LIVE',img)\n",
    "            k=cv2.waitKey(1)\n",
    "            if(k==27):\n",
    "                break\n",
    "cv2.destroyAllWindows()"
   ]
  },
  {
   "cell_type": "code",
   "execution_count": null,
   "id": "fc96cc3c",
   "metadata": {},
   "outputs": [],
   "source": []
  }
 ],
 "metadata": {
  "kernelspec": {
   "display_name": "Python 3",
   "language": "python",
   "name": "python3"
  },
  "language_info": {
   "codemirror_mode": {
    "name": "ipython",
    "version": 3
   },
   "file_extension": ".py",
   "mimetype": "text/x-python",
   "name": "python",
   "nbconvert_exporter": "python",
   "pygments_lexer": "ipython3",
   "version": "3.6.13"
  }
 },
 "nbformat": 4,
 "nbformat_minor": 5
}
